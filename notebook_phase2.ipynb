{
 "cells": [
  {
   "cell_type": "code",
   "execution_count": 1,
   "metadata": {},
   "outputs": [],
   "source": [
    "import pandas as pd\n",
    "pd.set_option(\"display.max_columns\", None)"
   ]
  },
  {
   "cell_type": "markdown",
   "metadata": {},
   "source": [
    "## Model Building"
   ]
  },
  {
   "cell_type": "markdown",
   "metadata": {},
   "source": [
    "### Build the Logistic Regression model"
   ]
  },
  {
   "cell_type": "code",
   "execution_count": 2,
   "metadata": {},
   "outputs": [
    {
     "data": {
      "text/html": [
       "<div>\n",
       "<style scoped>\n",
       "    .dataframe tbody tr th:only-of-type {\n",
       "        vertical-align: middle;\n",
       "    }\n",
       "\n",
       "    .dataframe tbody tr th {\n",
       "        vertical-align: top;\n",
       "    }\n",
       "\n",
       "    .dataframe thead th {\n",
       "        text-align: right;\n",
       "    }\n",
       "</style>\n",
       "<table border=\"1\" class=\"dataframe\">\n",
       "  <thead>\n",
       "    <tr style=\"text-align: right;\">\n",
       "      <th></th>\n",
       "      <th>term</th>\n",
       "      <th>int_rate</th>\n",
       "      <th>installment</th>\n",
       "      <th>grade</th>\n",
       "      <th>sub_grade</th>\n",
       "      <th>home_ownership</th>\n",
       "      <th>loan_status</th>\n",
       "      <th>purpose</th>\n",
       "      <th>dti</th>\n",
       "      <th>open_acc</th>\n",
       "      <th>pub_rec</th>\n",
       "      <th>initial_list_status</th>\n",
       "      <th>pub_rec_bankruptcies</th>\n",
       "      <th>issue_month</th>\n",
       "      <th>issue_year</th>\n",
       "      <th>earliest_cr_month</th>\n",
       "      <th>earliest_cr_year</th>\n",
       "      <th>state</th>\n",
       "      <th>pincode</th>\n",
       "      <th>loan_amnt</th>\n",
       "      <th>annual_inc</th>\n",
       "      <th>emp_length</th>\n",
       "      <th>mort_acc</th>\n",
       "      <th>revol_bal</th>\n",
       "      <th>total_acc</th>\n",
       "      <th>revol_util</th>\n",
       "      <th>verification_status_Not Verified</th>\n",
       "      <th>verification_status_Source Verified</th>\n",
       "      <th>verification_status_Verified</th>\n",
       "      <th>emp_duration_type_equalsto</th>\n",
       "      <th>emp_duration_type_greaterthan</th>\n",
       "      <th>emp_duration_type_lessthan</th>\n",
       "    </tr>\n",
       "  </thead>\n",
       "  <tbody>\n",
       "    <tr>\n",
       "      <th>0</th>\n",
       "      <td>0</td>\n",
       "      <td>-0.501098</td>\n",
       "      <td>-0.348189</td>\n",
       "      <td>-0.620922</td>\n",
       "      <td>0.730671</td>\n",
       "      <td>0.774488</td>\n",
       "      <td>1</td>\n",
       "      <td>0.809965</td>\n",
       "      <td>1.122820</td>\n",
       "      <td>1.248150</td>\n",
       "      <td>1</td>\n",
       "      <td>1</td>\n",
       "      <td>1</td>\n",
       "      <td>0.799079</td>\n",
       "      <td>0.956973</td>\n",
       "      <td>0.803932</td>\n",
       "      <td>-1.165272</td>\n",
       "      <td>0.807947</td>\n",
       "      <td>-0.443529</td>\n",
       "      <td>-0.433081</td>\n",
       "      <td>1.717346</td>\n",
       "      <td>1.177252</td>\n",
       "      <td>1</td>\n",
       "      <td>2.607166</td>\n",
       "      <td>0.107431</td>\n",
       "      <td>-0.485039</td>\n",
       "      <td>1</td>\n",
       "      <td>0</td>\n",
       "      <td>0</td>\n",
       "      <td>0</td>\n",
       "      <td>1</td>\n",
       "      <td>0</td>\n",
       "    </tr>\n",
       "    <tr>\n",
       "      <th>1</th>\n",
       "      <td>0</td>\n",
       "      <td>-0.377026</td>\n",
       "      <td>-0.620049</td>\n",
       "      <td>-0.620922</td>\n",
       "      <td>1.441943</td>\n",
       "      <td>0.828625</td>\n",
       "      <td>1</td>\n",
       "      <td>0.791086</td>\n",
       "      <td>0.600421</td>\n",
       "      <td>1.481629</td>\n",
       "      <td>1</td>\n",
       "      <td>0</td>\n",
       "      <td>1</td>\n",
       "      <td>0.799079</td>\n",
       "      <td>0.956973</td>\n",
       "      <td>0.799839</td>\n",
       "      <td>0.814057</td>\n",
       "      <td>0.801044</td>\n",
       "      <td>-1.129297</td>\n",
       "      <td>-0.687301</td>\n",
       "      <td>-0.033476</td>\n",
       "      <td>-0.565685</td>\n",
       "      <td>0</td>\n",
       "      <td>0.825176</td>\n",
       "      <td>0.301017</td>\n",
       "      <td>-0.011886</td>\n",
       "      <td>1</td>\n",
       "      <td>0</td>\n",
       "      <td>0</td>\n",
       "      <td>1</td>\n",
       "      <td>0</td>\n",
       "      <td>0</td>\n",
       "    </tr>\n",
       "    <tr>\n",
       "      <th>2</th>\n",
       "      <td>0</td>\n",
       "      <td>-0.715404</td>\n",
       "      <td>0.408121</td>\n",
       "      <td>-0.620922</td>\n",
       "      <td>0.019399</td>\n",
       "      <td>0.774488</td>\n",
       "      <td>1</td>\n",
       "      <td>0.831658</td>\n",
       "      <td>-0.554093</td>\n",
       "      <td>0.547712</td>\n",
       "      <td>1</td>\n",
       "      <td>0</td>\n",
       "      <td>1</td>\n",
       "      <td>0.799079</td>\n",
       "      <td>0.956973</td>\n",
       "      <td>0.801090</td>\n",
       "      <td>1.238199</td>\n",
       "      <td>0.794888</td>\n",
       "      <td>-1.129297</td>\n",
       "      <td>0.278735</td>\n",
       "      <td>-0.772288</td>\n",
       "      <td>-1.437154</td>\n",
       "      <td>1</td>\n",
       "      <td>-0.068563</td>\n",
       "      <td>0.204224</td>\n",
       "      <td>1.588607</td>\n",
       "      <td>0</td>\n",
       "      <td>1</td>\n",
       "      <td>0</td>\n",
       "      <td>0</td>\n",
       "      <td>0</td>\n",
       "      <td>1</td>\n",
       "    </tr>\n",
       "    <tr>\n",
       "      <th>3</th>\n",
       "      <td>0</td>\n",
       "      <td>-1.617744</td>\n",
       "      <td>-0.811928</td>\n",
       "      <td>-1.377344</td>\n",
       "      <td>-0.691873</td>\n",
       "      <td>0.774488</td>\n",
       "      <td>1</td>\n",
       "      <td>0.831658</td>\n",
       "      <td>-1.824557</td>\n",
       "      <td>-1.086642</td>\n",
       "      <td>1</td>\n",
       "      <td>0</td>\n",
       "      <td>1</td>\n",
       "      <td>0.813152</td>\n",
       "      <td>0.274306</td>\n",
       "      <td>0.803896</td>\n",
       "      <td>1.096819</td>\n",
       "      <td>0.805249</td>\n",
       "      <td>-1.297062</td>\n",
       "      <td>-0.788989</td>\n",
       "      <td>-0.403842</td>\n",
       "      <td>0.015294</td>\n",
       "      <td>1</td>\n",
       "      <td>-0.783531</td>\n",
       "      <td>-1.054087</td>\n",
       "      <td>-1.320258</td>\n",
       "      <td>1</td>\n",
       "      <td>0</td>\n",
       "      <td>0</td>\n",
       "      <td>1</td>\n",
       "      <td>0</td>\n",
       "      <td>0</td>\n",
       "    </tr>\n",
       "    <tr>\n",
       "      <th>4</th>\n",
       "      <td>1</td>\n",
       "      <td>0.814062</td>\n",
       "      <td>0.844290</td>\n",
       "      <td>0.135500</td>\n",
       "      <td>1.441943</td>\n",
       "      <td>0.828625</td>\n",
       "      <td>0</td>\n",
       "      <td>0.831658</td>\n",
       "      <td>2.084084</td>\n",
       "      <td>0.547712</td>\n",
       "      <td>1</td>\n",
       "      <td>0</td>\n",
       "      <td>1</td>\n",
       "      <td>0.792540</td>\n",
       "      <td>-0.408361</td>\n",
       "      <td>0.797236</td>\n",
       "      <td>0.107154</td>\n",
       "      <td>0.802085</td>\n",
       "      <td>-0.874256</td>\n",
       "      <td>1.394125</td>\n",
       "      <td>-0.370172</td>\n",
       "      <td>0.886762</td>\n",
       "      <td>0</td>\n",
       "      <td>1.313857</td>\n",
       "      <td>1.849708</td>\n",
       "      <td>0.666986</td>\n",
       "      <td>0</td>\n",
       "      <td>0</td>\n",
       "      <td>1</td>\n",
       "      <td>1</td>\n",
       "      <td>0</td>\n",
       "      <td>0</td>\n",
       "    </tr>\n",
       "  </tbody>\n",
       "</table>\n",
       "</div>"
      ],
      "text/plain": [
       "   term  int_rate  installment     grade  sub_grade  home_ownership  \\\n",
       "0     0 -0.501098    -0.348189 -0.620922   0.730671        0.774488   \n",
       "1     0 -0.377026    -0.620049 -0.620922   1.441943        0.828625   \n",
       "2     0 -0.715404     0.408121 -0.620922   0.019399        0.774488   \n",
       "3     0 -1.617744    -0.811928 -1.377344  -0.691873        0.774488   \n",
       "4     1  0.814062     0.844290  0.135500   1.441943        0.828625   \n",
       "\n",
       "   loan_status   purpose       dti  open_acc  pub_rec  initial_list_status  \\\n",
       "0            1  0.809965  1.122820  1.248150        1                    1   \n",
       "1            1  0.791086  0.600421  1.481629        1                    0   \n",
       "2            1  0.831658 -0.554093  0.547712        1                    0   \n",
       "3            1  0.831658 -1.824557 -1.086642        1                    0   \n",
       "4            0  0.831658  2.084084  0.547712        1                    0   \n",
       "\n",
       "   pub_rec_bankruptcies  issue_month  issue_year  earliest_cr_month  \\\n",
       "0                     1     0.799079    0.956973           0.803932   \n",
       "1                     1     0.799079    0.956973           0.799839   \n",
       "2                     1     0.799079    0.956973           0.801090   \n",
       "3                     1     0.813152    0.274306           0.803896   \n",
       "4                     1     0.792540   -0.408361           0.797236   \n",
       "\n",
       "   earliest_cr_year     state   pincode  loan_amnt  annual_inc  emp_length  \\\n",
       "0         -1.165272  0.807947 -0.443529  -0.433081    1.717346    1.177252   \n",
       "1          0.814057  0.801044 -1.129297  -0.687301   -0.033476   -0.565685   \n",
       "2          1.238199  0.794888 -1.129297   0.278735   -0.772288   -1.437154   \n",
       "3          1.096819  0.805249 -1.297062  -0.788989   -0.403842    0.015294   \n",
       "4          0.107154  0.802085 -0.874256   1.394125   -0.370172    0.886762   \n",
       "\n",
       "   mort_acc  revol_bal  total_acc  revol_util  \\\n",
       "0         1   2.607166   0.107431   -0.485039   \n",
       "1         0   0.825176   0.301017   -0.011886   \n",
       "2         1  -0.068563   0.204224    1.588607   \n",
       "3         1  -0.783531  -1.054087   -1.320258   \n",
       "4         0   1.313857   1.849708    0.666986   \n",
       "\n",
       "   verification_status_Not Verified  verification_status_Source Verified  \\\n",
       "0                                 1                                    0   \n",
       "1                                 1                                    0   \n",
       "2                                 0                                    1   \n",
       "3                                 1                                    0   \n",
       "4                                 0                                    0   \n",
       "\n",
       "   verification_status_Verified  emp_duration_type_equalsto  \\\n",
       "0                             0                           0   \n",
       "1                             0                           1   \n",
       "2                             0                           0   \n",
       "3                             0                           1   \n",
       "4                             1                           1   \n",
       "\n",
       "   emp_duration_type_greaterthan  emp_duration_type_lessthan  \n",
       "0                              1                           0  \n",
       "1                              0                           0  \n",
       "2                              0                           1  \n",
       "3                              0                           0  \n",
       "4                              0                           0  "
      ]
     },
     "execution_count": 2,
     "metadata": {},
     "output_type": "execute_result"
    }
   ],
   "source": [
    "df = pd.read_csv(\"dataset/df_processed_phase2.csv\")\n",
    "df.head()"
   ]
  },
  {
   "cell_type": "code",
   "execution_count": 3,
   "metadata": {},
   "outputs": [
    {
     "data": {
      "text/plain": [
       "(353446, 32)"
      ]
     },
     "execution_count": 3,
     "metadata": {},
     "output_type": "execute_result"
    }
   ],
   "source": [
    "df.shape"
   ]
  },
  {
   "cell_type": "code",
   "execution_count": 4,
   "metadata": {},
   "outputs": [],
   "source": [
    "from sklearn.model_selection import train_test_split\n",
    "\n",
    "# Separate features (X) and target variable (y)\n",
    "X = df.drop(columns=['loan_status'])\n",
    "y = df['loan_status'] # Fully-Paid: 1 and Charged-Off: 0\n",
    "\n",
    "# Perform train-test split\n",
    "X_train, X_test, y_train, y_test = train_test_split(X, y, test_size=0.1, random_state=42)\n"
   ]
  },
  {
   "cell_type": "markdown",
   "metadata": {},
   "source": [
    "### Handling Class Imbalance"
   ]
  },
  {
   "cell_type": "code",
   "execution_count": 5,
   "metadata": {},
   "outputs": [
    {
     "data": {
      "text/plain": [
       "(loan_status\n",
       " 1    255153\n",
       " 0     62948\n",
       " Name: count, dtype: int64,\n",
       " loan_status\n",
       " 1    28366\n",
       " 0     6979\n",
       " Name: count, dtype: int64)"
      ]
     },
     "execution_count": 5,
     "metadata": {},
     "output_type": "execute_result"
    }
   ],
   "source": [
    "y_train.value_counts(), y_test.value_counts()"
   ]
  },
  {
   "cell_type": "markdown",
   "metadata": {},
   "source": [
    "* SMOTE"
   ]
  },
  {
   "cell_type": "code",
   "execution_count": 6,
   "metadata": {},
   "outputs": [
    {
     "name": "stdout",
     "output_type": "stream",
     "text": [
      "Class distribution before SMOTE: {0: 62948, 1: 255153}\n",
      "Class distribution after SMOTE: {0: 255153, 1: 255153}\n"
     ]
    }
   ],
   "source": [
    "from imblearn.over_sampling import SMOTE\n",
    "\n",
    "# Apply SMOTE to oversample the minority class\n",
    "smote = SMOTE(sampling_strategy='auto', random_state=42)\n",
    "X_train_smote, y_train_smote = smote.fit_resample(X_train, y_train)\n",
    "\n",
    "# Check the distribution of classes after applying SMOTE\n",
    "print(\"Class distribution before SMOTE:\", {0: sum(y_train == 0), 1: sum(y_train == 1)})\n",
    "print(\"Class distribution after SMOTE:\", {0: sum(y_train_smote == 0), 1: sum(y_train_smote == 1)})\n"
   ]
  },
  {
   "cell_type": "markdown",
   "metadata": {},
   "source": [
    "* We are not handling the class imbalance by adding extra weight to the minority class.\n",
    "* Note: We're doing SMOTE here."
   ]
  },
  {
   "cell_type": "code",
   "execution_count": 7,
   "metadata": {},
   "outputs": [],
   "source": [
    "# # Specify class weights (class 0 is the minority class)\n",
    "# class_weights = {0: 5, 1: 1}  # You can adjust the weights based on the imbalance"
   ]
  },
  {
   "cell_type": "markdown",
   "metadata": {},
   "source": [
    "* Build the Logistic Regression model"
   ]
  },
  {
   "cell_type": "code",
   "execution_count": 8,
   "metadata": {},
   "outputs": [],
   "source": [
    "from sklearn.linear_model import LogisticRegression\n",
    "\n",
    "# # Instantiate the Logistic Regression model\n",
    "# model = LogisticRegression(class_weight=class_weights, random_state=42)\n",
    "\n",
    "# Instantiate the Logistic Regression model\n",
    "model = LogisticRegression(random_state=42)"
   ]
  },
  {
   "cell_type": "markdown",
   "metadata": {},
   "source": [
    "### Hyperparameter Tuning"
   ]
  },
  {
   "cell_type": "code",
   "execution_count": 9,
   "metadata": {},
   "outputs": [],
   "source": [
    "from sklearn.model_selection import RandomizedSearchCV\n",
    "from scipy.stats import loguniform\n",
    "\n",
    "import warnings\n",
    "# Suppress all warnings\n",
    "warnings.filterwarnings(\"ignore\")\n",
    "\n",
    "# param_dist = {\n",
    "#     'penalty': ['l1', 'l2', 'elasticnet', 'none'],\n",
    "#     'C': loguniform(0.001, 100),\n",
    "#     'solver': ['newton-cg', 'lbfgs', 'liblinear', 'sag', 'saga'],\n",
    "# }\n",
    "\n",
    "param_dist = {\n",
    "    'penalty': ['l1','l2','elasticnet'],\n",
    "    'C': loguniform(0.001, 100),\n",
    "    'solver': ['saga'],\n",
    "}\n",
    "\n",
    "random_search = RandomizedSearchCV(model, param_dist, n_iter=10, cv=10)\n",
    "random_search.fit(X_train, y_train)\n",
    "best_params_random = random_search.best_params_"
   ]
  },
  {
   "cell_type": "code",
   "execution_count": 10,
   "metadata": {},
   "outputs": [
    {
     "name": "stdout",
     "output_type": "stream",
     "text": [
      "{'C': 37.737588356400735, 'penalty': 'l2', 'solver': 'saga'}\n"
     ]
    }
   ],
   "source": [
    "print(best_params_random)"
   ]
  },
  {
   "cell_type": "markdown",
   "metadata": {},
   "source": [
    "## Results Interpretation & Stakeholder Presentation"
   ]
  },
  {
   "cell_type": "markdown",
   "metadata": {},
   "source": [
    "* Model coefficients with column names"
   ]
  },
  {
   "cell_type": "code",
   "execution_count": 11,
   "metadata": {},
   "outputs": [
    {
     "name": "stdout",
     "output_type": "stream",
     "text": [
      "\n",
      "Importance of Features:\n",
      "                                Feature  Absolute_Coefficient\n",
      "12                          issue_month              4.496817\n",
      "16                                state              3.960218\n",
      "5                        home_ownership              3.383190\n",
      "6                               purpose              2.308081\n",
      "26  verification_status_Source Verified              1.980598\n",
      "30           emp_duration_type_lessthan              1.975513\n",
      "27         verification_status_Verified              1.935042\n",
      "28           emp_duration_type_equalsto              1.925525\n",
      "29        emp_duration_type_greaterthan              1.828914\n",
      "25     verification_status_Not Verified              1.814312\n",
      "17                              pincode              0.860062\n",
      "3                                 grade              0.710929\n",
      "0                                  term              0.440744\n",
      "14                    earliest_cr_month              0.409506\n",
      "1                              int_rate              0.276231\n",
      "19                           annual_inc              0.213699\n",
      "7                                   dti              0.167347\n",
      "4                             sub_grade              0.154335\n",
      "11                 pub_rec_bankruptcies              0.152925\n",
      "9                               pub_rec              0.152922\n",
      "8                              open_acc              0.135062\n",
      "24                           revol_util              0.127455\n",
      "21                             mort_acc              0.116779\n",
      "23                            total_acc              0.105182\n",
      "22                            revol_bal              0.088068\n",
      "13                           issue_year              0.067156\n",
      "18                            loan_amnt              0.060879\n",
      "10                  initial_list_status              0.059179\n",
      "2                           installment              0.049751\n",
      "15                     earliest_cr_year              0.041686\n",
      "20                           emp_length              0.022157\n"
     ]
    }
   ],
   "source": [
    "import numpy as np\n",
    "\n",
    "# Access the best logistic regression model\n",
    "best_logreg_model = random_search.best_estimator_\n",
    "\n",
    "# Extract coefficients and feature names\n",
    "coefficients = best_logreg_model.coef_[0]\n",
    "feature_names = X_train.columns\n",
    "\n",
    "# Create a DataFrame to display the coefficients\n",
    "coefficients_df = pd.DataFrame({'Feature': feature_names, 'Coefficient': coefficients})\n",
    "\n",
    "# Assess the importance of each feature by considering the absolute values of coefficients\n",
    "coefficients_df['Absolute_Coefficient'] = np.abs(coefficients)\n",
    "coefficients_df = coefficients_df.sort_values(by='Absolute_Coefficient', ascending=False)\n",
    "\n",
    "# Display the importance of each feature\n",
    "print(\"\\nImportance of Features:\")\n",
    "print(coefficients_df[['Feature', 'Absolute_Coefficient']])"
   ]
  },
  {
   "cell_type": "code",
   "execution_count": 12,
   "metadata": {},
   "outputs": [
    {
     "name": "stdout",
     "output_type": "stream",
     "text": [
      "Best Hyperparameters: RandomizedSearchCV(cv=10, estimator=LogisticRegression(random_state=42),\n",
      "                   param_distributions={'C': <scipy.stats._distn_infrastructure.rv_continuous_frozen object at 0x7f5bff6bf340>,\n",
      "                                        'penalty': ['l1', 'l2', 'elasticnet'],\n",
      "                                        'solver': ['saga']})\n",
      "\n",
      "Accuracy: 0.8370349412929693\n",
      "\n",
      "Confusion Matrix:\n",
      "[[ 2148  4831]\n",
      " [  929 27437]]\n",
      "\n",
      "Classification Report:\n",
      "              precision    recall  f1-score   support\n",
      "\n",
      "           0       0.70      0.31      0.43      6979\n",
      "           1       0.85      0.97      0.91     28366\n",
      "\n",
      "    accuracy                           0.84     35345\n",
      "   macro avg       0.77      0.64      0.67     35345\n",
      "weighted avg       0.82      0.84      0.81     35345\n",
      "\n"
     ]
    }
   ],
   "source": [
    "# Make predictions on the test set using the best model\n",
    "y_pred = random_search.predict(X_test)\n",
    "\n",
    "from sklearn.metrics import accuracy_score, classification_report, confusion_matrix\n",
    "\n",
    "# Evaluate the best model\n",
    "accuracy = accuracy_score(y_test, y_pred)\n",
    "conf_matrix = confusion_matrix(y_test, y_pred)\n",
    "classification_rep = classification_report(y_test, y_pred)\n",
    "\n",
    "# Display the results\n",
    "print(\"Best Hyperparameters:\", random_search)\n",
    "print(\"\\nAccuracy:\", accuracy)\n",
    "print(\"\\nConfusion Matrix:\")\n",
    "print(conf_matrix)\n",
    "print(\"\\nClassification Report:\")\n",
    "print(classification_rep)"
   ]
  },
  {
   "cell_type": "code",
   "execution_count": 13,
   "metadata": {},
   "outputs": [],
   "source": [
    "# from sklearn.model_selection import GridSearchCV\n",
    "\n",
    "# param_grid = {\n",
    "#     'penalty': ['l1', 'l2', 'elasticnet', 'none'],\n",
    "#     'C': [0.001, 0.01, 0.1, 1, 10, 100],\n",
    "#     'solver': ['newton-cg', 'lbfgs', 'liblinear', 'sag', 'saga'],\n",
    "# }\n",
    "\n",
    "# grid_search = GridSearchCV(model, param_grid, cv=5)\n",
    "# grid_search.fit(X_train, y_train)\n",
    "# best_params_grid = grid_search.best_params_\n",
    "# print(best_params_grid)"
   ]
  },
  {
   "cell_type": "markdown",
   "metadata": {},
   "source": [
    "* Visual Representations\n",
    "1. ROC-AUC curve\n",
    "2. Precision-Recall curve"
   ]
  },
  {
   "cell_type": "code",
   "execution_count": 14,
   "metadata": {},
   "outputs": [
    {
     "data": {
      "image/png": "[encoded data removed]",
      "text/plain": [
       "<Figure size 400x400 with 1 Axes>"
      ]
     },
     "metadata": {},
     "output_type": "display_data"
    },
    {
     "data": {
      "image/png": "[encoded data removed]",
      "text/plain": [
       "<Figure size 400x400 with 1 Axes>"
      ]
     },
     "metadata": {},
     "output_type": "display_data"
    }
   ],
   "source": [
    "from sklearn.metrics import roc_curve, precision_recall_curve, auc\n",
    "import matplotlib.pyplot as plt\n",
    "\n",
    "# Predict probabilities on the test set\n",
    "y_proba = random_search.predict_proba(X_test)[:, 1]\n",
    "\n",
    "# Compute ROC curve\n",
    "fpr, tpr, thresholds_roc = roc_curve(y_test, y_proba)\n",
    "roc_auc = auc(fpr, tpr)\n",
    "\n",
    "# Compute Precision-Recall curve\n",
    "precision, recall, thresholds_pr = precision_recall_curve(y_test, y_proba)\n",
    "pr_auc = auc(recall, precision)\n",
    "\n",
    "# Plot ROC curve\n",
    "plt.figure(figsize=(4, 4))\n",
    "plt.plot(fpr, tpr, color='darkorange', lw=2, label=f'ROC Curve (AUC = {roc_auc:.2f})')\n",
    "plt.plot([0, 1], [0, 1], color='navy', lw=2, linestyle='--')\n",
    "plt.xlabel('False Positive Rate (FPR)')\n",
    "plt.ylabel('True Positive Rate (TPR)')\n",
    "plt.title('Receiver Operating Characteristic (ROC) Curve')\n",
    "plt.legend(loc='lower right')\n",
    "plt.show()\n",
    "\n",
    "# Plot Precision-Recall curve\n",
    "plt.figure(figsize=(4, 4))\n",
    "plt.plot(recall, precision, color='blue', lw=2, label=f'Precision-Recall Curve (AUC = {pr_auc:.2f})')\n",
    "plt.xlabel('Recall')\n",
    "plt.ylabel('Precision')\n",
    "plt.title('Precision-Recall Curve')\n",
    "plt.legend(loc='upper right')\n",
    "plt.show()"
   ]
  },
  {
   "cell_type": "markdown",
   "metadata": {},
   "source": [
    "* Trade-off Analysis\n",
    "1. The proportion of approved loans that are genuinely repaid, for such scenario we are getting good accuracy and have a good go ahead signal.\n",
    "2. The proportion of actual repaid loans that are correctly identified, here we are lacking a bit and should focus on generating more such kind of data."
   ]
  },
  {
   "cell_type": "markdown",
   "metadata": {},
   "source": [
    "* Recommendations\n",
    "1. It seems that we our Precision is good with 85% accuracy and we can take advantage of this and can generate more revenue as the loans approved are likely to be repaid.\n",
    "2. We should focus more on generating Charged Off data, so that we improve our accuracy in that segment.\n",
    "3. Our Recall is not that good as of now, so we may miss few opportunity but it will not hamper our bussiness."
   ]
  },
  {
   "cell_type": "markdown",
   "metadata": {},
   "source": [
    "* Feedback Loop\n",
    "1. Monitoring Metrics: Set up a system to continuously monitor key performance metrics of your model, such as accuracy, precision, recall, F1 score, and area under the ROC curve (AUC-ROC). These metrics can give you insights into how well your model is performing.\n",
    "2. Retraining Schedule: Establish a regular retraining schedule to update the model with new data. This could be daily, weekly, or based on the volume of incoming data. A scheduled retraining ensures that the model stays relevant and adapts to changing patterns in the data.\n",
    "3. A/B Testing: Implement A/B testing to compare the performance of the existing model with that of a new model or an updated version. This allows you to assess the impact of changes before deploying them to production.\n",
    "4. Collaboration with Stakeholders: Collaborate closely with domain experts, business stakeholders, and end-users. Their insights can help refine the model based on changing business needs or evolving requirements.\n",
    "5. Feedback Loops: Set up feedback loops to collect user feedback on predictions. User feedback can provide valuable insights into model performance and help identify potential issues or areas for improvement."
   ]
  },
  {
   "cell_type": "code",
   "execution_count": null,
   "metadata": {},
   "outputs": [],
   "source": []
  }
 ],
 "metadata": {
  "kernelspec": {
   "display_name": ".venv",
   "language": "python",
   "name": "python3"
  },
  "language_info": {
   "codemirror_mode": {
    "name": "ipython",
    "version": 3
   },
   "file_extension": ".py",
   "mimetype": "text/x-python",
   "name": "python",
   "nbconvert_exporter": "python",
   "pygments_lexer": "ipython3",
   "version": "3.10.12"
  }
 },
 "nbformat": 4,
 "nbformat_minor": 2
}
